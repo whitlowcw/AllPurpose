{
 "cells": [
  {
   "cell_type": "markdown",
   "id": "ea4f8ddb",
   "metadata": {},
   "source": [
    "# Data Science Tools and Ecosystem"
   ]
  },
  {
   "cell_type": "markdown",
   "id": "619c20a6",
   "metadata": {},
   "source": [
    "In this notebook, Data Science Tools and Ecosystem are summarized."
   ]
  },
  {
   "cell_type": "markdown",
   "id": "6d97e820",
   "metadata": {},
   "source": [
    "**Objectives**:\n",
    "* List commonly used languages for Data Science\n",
    "* List commonly used libraries for Data Science\n",
    "* List commonly used tools for Data Science"
   ]
  },
  {
   "cell_type": "markdown",
   "id": "9d1bafa8",
   "metadata": {},
   "source": [
    "Some of the popular languages that Data Scientists use are:\n",
    "1. Python\n",
    "2. R\n",
    "3. Julia"
   ]
  },
  {
   "cell_type": "markdown",
   "id": "c399b334",
   "metadata": {},
   "source": [
    "Some of the commonly used libraries used by Data Scientists include:\n",
    "1. dplyr\n",
    "2. stringr\n",
    "3. ggplot\n",
    "4. caret"
   ]
  },
  {
   "cell_type": "markdown",
   "id": "9166845b",
   "metadata": {},
   "source": [
    "|Data Science Tools|\n",
    "|-----|\n",
    "|JupyterLab|\n",
    "|VScode|\n",
    "|Rstudio|\n"
   ]
  },
  {
   "cell_type": "markdown",
   "id": "4e34740b",
   "metadata": {},
   "source": [
    "### Below are a few examples of evaluating arithmetic expressions in Python."
   ]
  },
  {
   "cell_type": "code",
   "execution_count": 1,
   "id": "63de1a50",
   "metadata": {},
   "outputs": [
    {
     "data": {
      "text/plain": [
       "17"
      ]
     },
     "execution_count": 1,
     "metadata": {},
     "output_type": "execute_result"
    }
   ],
   "source": [
    "#This is a simple arithmetic expression to multiply then add integers\n",
    "(3*4)+5"
   ]
  },
  {
   "cell_type": "code",
   "execution_count": 2,
   "id": "e586485b",
   "metadata": {},
   "outputs": [
    {
     "name": "stdout",
     "output_type": "stream",
     "text": [
      "200 minuts is 3.33 hours\n"
     ]
    }
   ],
   "source": [
    "#This will convert 200 minutes to hours by dividing by 60\n",
    "print(\"200 minuts is\", round(200/60, 2), \"hours\")"
   ]
  },
  {
   "cell_type": "markdown",
   "id": "75c163c5",
   "metadata": {},
   "source": [
    "## Author\n",
    "Cole Farmer-Whitlow"
   ]
  }
 ],
 "metadata": {
  "kernelspec": {
   "display_name": "newenvr",
   "language": "python",
   "name": "python3"
  },
  "language_info": {
   "codemirror_mode": {
    "name": "ipython",
    "version": 3
   },
   "file_extension": ".py",
   "mimetype": "text/x-python",
   "name": "python",
   "nbconvert_exporter": "python",
   "pygments_lexer": "ipython3",
   "version": "3.12.9"
  }
 },
 "nbformat": 4,
 "nbformat_minor": 5
}
